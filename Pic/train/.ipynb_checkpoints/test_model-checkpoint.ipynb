{
 "cells": [
  {
   "cell_type": "code",
   "execution_count": null,
   "metadata": {
    "scrolled": false
   },
   "outputs": [
    {
     "name": "stdout",
     "output_type": "stream",
     "text": [
      "train batches:  70\n",
      "test batches:  18\n"
     ]
    },
    {
     "name": "stderr",
     "output_type": "stream",
     "text": [
      "D:\\anaconda\\envs\\tensorflow-gpu\\lib\\site-packages\\torch\\serialization.py:454: SourceChangeWarning: source code of class 'models.ResNet' has changed. you can retrieve the original source code by accessing the object's source attribute or set `torch.nn.Module.dump_patches = True` and use the patch tool to revert the changes.\n",
      "  warnings.warn(msg, SourceChangeWarning)\n",
      "D:\\anaconda\\envs\\tensorflow-gpu\\lib\\site-packages\\torch\\serialization.py:454: SourceChangeWarning: source code of class 'torch.nn.modules.conv.Conv2d' has changed. you can retrieve the original source code by accessing the object's source attribute or set `torch.nn.Module.dump_patches = True` and use the patch tool to revert the changes.\n",
      "  warnings.warn(msg, SourceChangeWarning)\n",
      "D:\\anaconda\\envs\\tensorflow-gpu\\lib\\site-packages\\torch\\serialization.py:454: SourceChangeWarning: source code of class 'torch.nn.modules.batchnorm.BatchNorm2d' has changed. you can retrieve the original source code by accessing the object's source attribute or set `torch.nn.Module.dump_patches = True` and use the patch tool to revert the changes.\n",
      "  warnings.warn(msg, SourceChangeWarning)\n",
      "D:\\anaconda\\envs\\tensorflow-gpu\\lib\\site-packages\\torch\\serialization.py:454: SourceChangeWarning: source code of class 'torch.nn.modules.activation.ReLU' has changed. you can retrieve the original source code by accessing the object's source attribute or set `torch.nn.Module.dump_patches = True` and use the patch tool to revert the changes.\n",
      "  warnings.warn(msg, SourceChangeWarning)\n",
      "D:\\anaconda\\envs\\tensorflow-gpu\\lib\\site-packages\\torch\\serialization.py:454: SourceChangeWarning: source code of class 'torch.nn.modules.pooling.AdaptiveAvgPool2d' has changed. you can retrieve the original source code by accessing the object's source attribute or set `torch.nn.Module.dump_patches = True` and use the patch tool to revert the changes.\n",
      "  warnings.warn(msg, SourceChangeWarning)\n",
      "D:\\anaconda\\envs\\tensorflow-gpu\\lib\\site-packages\\torch\\serialization.py:454: SourceChangeWarning: source code of class 'torch.nn.modules.linear.Linear' has changed. you can retrieve the original source code by accessing the object's source attribute or set `torch.nn.Module.dump_patches = True` and use the patch tool to revert the changes.\n",
      "  warnings.warn(msg, SourceChangeWarning)\n"
     ]
    }
   ],
   "source": [
    "import torch\n",
    "from torch import nn, optim\n",
    "from torchvision import transforms, utils\n",
    "from torch.utils.data import DataLoader, random_split\n",
    "from dataset import PosterDataset, Resize, ToTensor\n",
    "import numpy as np\n",
    "\n",
    "bs = 32\n",
    "epochs = 50\n",
    "lr = 1e-3\n",
    "\n",
    "def props_to_onehot(props):\n",
    "    if isinstance(props, list):\n",
    "        props = np.array(props)\n",
    "    a = np.argmax(props, axis=1)\n",
    "    b = np.zeros((len(a), props.shape[1]))\n",
    "    b[np.arange(len(a)), a] = 1\n",
    "    return b\n",
    "\n",
    "transformed_dataset = PosterDataset(csv_file='./data.txt',\n",
    "                                    root_dir='../posters',\n",
    "                                    transform=transforms.Compose([\n",
    "                                        Resize(),\n",
    "                                        ToTensor()\n",
    "                                    ]))\n",
    "train_size = int(0.8*len(transformed_dataset)+1)\n",
    "test_size = int(0.2*len(transformed_dataset))\n",
    "train_dataset, test_dataset = random_split(transformed_dataset, [train_size, test_size])\n",
    "data_loader1 = DataLoader(train_dataset, batch_size=bs,shuffle=True)\n",
    "data_loader2 = DataLoader(test_dataset, batch_size=bs,shuffle=True)\n",
    "print('train batches: ', len(data_loader1))\n",
    "print('test batches: ', len(data_loader2))\n",
    "\n",
    "device = torch.device('cuda')\n",
    "model = torch.load('net.pkl').cuda()\n",
    "train_acc = []\n",
    "\n",
    "for epoch in range(1):\n",
    "    model.eval()\n",
    "    with torch.no_grad():\n",
    "        # test\n",
    "        total_correct = 0\n",
    "        total_num = 0\n",
    "        for idx, item in enumerate(data_loader2):\n",
    "            x, labels = item['image'].to(device), item['labels']\n",
    "            \n",
    "            # 改进\n",
    "            logits = model(x)\n",
    "            pred = props_to_onehot(logits.cpu().numpy()) # 输出转为onehot\n",
    "            \n",
    "            for i in range(x.size(0)): # 不能设置为tbx因为最后一个batch可能会越界\n",
    "                a = torch.IntTensor(pred[i]).to(device)\n",
    "                b = torch.IntTensor(list(map(int, labels[i]))).to(device)\n",
    "                total_correct += (a*b).sum().item() # 向量点乘，若模型预测结果在电影类型中则点乘为1，即预测正确\n",
    "                \n",
    "            total_num += x.size(0)\n",
    "\n",
    "        acc = total_correct / total_num\n",
    "        train_acc.append(acc)\n",
    "        print('epoch: ', epoch, '\\tacc: ', acc, '\\n')"
   ]
  }
 ],
 "metadata": {
  "kernelspec": {
   "display_name": "Python 3",
   "language": "python",
   "name": "python3"
  },
  "language_info": {
   "codemirror_mode": {
    "name": "ipython",
    "version": 3
   },
   "file_extension": ".py",
   "mimetype": "text/x-python",
   "name": "python",
   "nbconvert_exporter": "python",
   "pygments_lexer": "ipython3",
   "version": "3.6.2"
  }
 },
 "nbformat": 4,
 "nbformat_minor": 2
}
