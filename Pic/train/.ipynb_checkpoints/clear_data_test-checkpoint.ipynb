{
 "cells": [
  {
   "cell_type": "code",
   "execution_count": 1,
   "metadata": {},
   "outputs": [],
   "source": [
    "import torch\n",
    "from torch import nn, optim\n",
    "from torchvision import transforms, utils\n",
    "from torch.utils.data import DataLoader, random_split\n",
    "from models import resnet50, resnet101\n",
    "from dataset import PosterDataset, Resize, ToTensor\n",
    "import matplotlib\n",
    "import numpy as np\n",
    "matplotlib.use('Agg')\n",
    "from matplotlib import pyplot as plt\n",
    "import warnings\n",
    "warnings.filterwarnings(\"ignore\")"
   ]
  },
  {
   "cell_type": "code",
   "execution_count": 4,
   "metadata": {},
   "outputs": [
    {
     "name": "stdout",
     "output_type": "stream",
     "text": [
      "train batches:  2773\n"
     ]
    }
   ],
   "source": [
    "bs = 1\n",
    "\n",
    "transformed_dataset = PosterDataset(csv_file='./data.txt',\n",
    "                                    root_dir='../posters',\n",
    "                                    transform=transforms.Compose([\n",
    "                                        Resize(),\n",
    "                                        ToTensor()\n",
    "                                    ]))\n",
    "data_loader = DataLoader(transformed_dataset, batch_size=bs,shuffle=True)\n",
    "print('train batches: ', len(data_loader))\n",
    "\n",
    "device = torch.device('cuda')\n",
    "org_model = torch.load('./logs/resnet101_0.001_net_50.pkl').cuda()\n",
    "pgd_model = torch.load('./logs/0.001_pgd_robust_net_30.pkl').cuda()\n",
    "fgsm_model = torch.load('./logs/0.001_fgsm_robust_net_40.pkl').cuda()\n",
    "\n",
    "def props_to_onehot(props):\n",
    "    if isinstance(props, list):\n",
    "        props = np.array(props)\n",
    "    a = np.argmax(props, axis=1)\n",
    "    b = np.zeros((len(a), props.shape[1]))\n",
    "    b[np.arange(len(a)), a] = 1\n",
    "    return b\n",
    "\n",
    "def epoch_adversarial(loader, model, **kwargs):\n",
    "    \"\"\"Adversarial training/evaluation epoch over the dataset\"\"\"\n",
    "    total_acc = 0.\n",
    "    for idx, item in enumerate(loader):\n",
    "        X,y,ys = item['image'].to(device), item['label'].to(device), item['labels']\n",
    "        yp = model(X)\n",
    "            \n",
    "        # 多标签acc算法\n",
    "        pred = props_to_onehot(yp.detach().cpu().numpy()) # 输出转为onehot\n",
    "        for i in range(X.size(0)): # 不能设置为tbx因为最后一个batch可能会越界\n",
    "            a = torch.IntTensor(pred[i]).to(device)\n",
    "            b = torch.IntTensor(list(map(int, ys[i]))).to(device)\n",
    "            total_acc += (a*b).sum().item() # 向量点乘，若模型预测结果在电影类型中则点乘为1，即预测正确\n",
    "\n",
    "    return total_acc / len(loader.dataset)"
   ]
  },
  {
   "cell_type": "code",
   "execution_count": 5,
   "metadata": {},
   "outputs": [
    {
     "name": "stdout",
     "output_type": "stream",
     "text": [
      "origin model acc on adv_example:  0.8395239812477461\n",
      "fgsm adv_train model acc on adv_example:  0.3036422646952759\n",
      "pgd adv_train model acc on adv_example:  0.3148214929679048\n"
     ]
    }
   ],
   "source": [
    "acc = epoch_adversarial(data_loader, org_model)\n",
    "print('origin model acc on clear_data: ', acc)\n",
    "\n",
    "acc = epoch_adversarial(data_loader, fgsm_model)\n",
    "print('fgsm adv_train model acc on clear_data: ', acc)\n",
    "\n",
    "acc = epoch_adversarial(data_loader, pgd_model)\n",
    "print('pgd adv_train model acc on clear_data: ', acc)"
   ]
  }
 ],
 "metadata": {
  "kernelspec": {
   "display_name": "Python 3",
   "language": "python",
   "name": "python3"
  },
  "language_info": {
   "codemirror_mode": {
    "name": "ipython",
    "version": 3
   },
   "file_extension": ".py",
   "mimetype": "text/x-python",
   "name": "python",
   "nbconvert_exporter": "python",
   "pygments_lexer": "ipython3",
   "version": "3.6.2"
  }
 },
 "nbformat": 4,
 "nbformat_minor": 2
}
