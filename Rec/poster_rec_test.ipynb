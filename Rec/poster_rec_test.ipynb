{
 "cells": [
  {
   "cell_type": "code",
   "execution_count": 32,
   "metadata": {},
   "outputs": [],
   "source": [
    "import pandas as pd\n",
    "import numpy as np"
   ]
  },
  {
   "cell_type": "code",
   "execution_count": 8,
   "metadata": {},
   "outputs": [],
   "source": [
    "cols = ['movie_id', 'pred_type', 'correct', 'title']\n",
    "preds = pd.read_csv('./website/ml-100k/pred.txt', sep='\\t', names=cols,\n",
    "                            encoding='latin-1')"
   ]
  },
  {
   "cell_type": "code",
   "execution_count": 29,
   "metadata": {},
   "outputs": [
    {
     "name": "stdout",
     "output_type": "stream",
     "text": [
      "8\n",
      "0\n"
     ]
    },
    {
     "data": {
      "text/plain": [
       "0    True\n",
       "Name: correct, dtype: bool"
      ]
     },
     "execution_count": 29,
     "metadata": {},
     "output_type": "execute_result"
    }
   ],
   "source": [
    "m = 1\n",
    "pred = preds[preds['movie_id'] == m]['pred_type']\n",
    "correct = preds[preds['movie_id'] == m]['correct']\n",
    "print(pred.values[0])\n",
    "print(correct.values[0])\n",
    "correct == 0"
   ]
  },
  {
   "cell_type": "code",
   "execution_count": 33,
   "metadata": {},
   "outputs": [],
   "source": [
    "m_cols = ['movie_id', 'title', 'release_date', 'video_release_date', 'imdb_url',\n",
    "          'unknown', 'Action', 'Adventure', 'Animation', 'Children', 'Comedy', 'Crime',\n",
    "          'Documentary', 'Drama', 'Fantasy', 'Film-Noir', 'Horror', 'Musical', 'Mystery',\n",
    "          'Romance', 'Sci-Fi', 'Thriller', 'War', 'Western']\n",
    "movies = pd.read_csv( './website/ml-100k/u.item', sep='|', names=m_cols, encoding='latin-1')\n",
    "no_posters = np.loadtxt('./website/ml-100k/no_use.txt')\n",
    "movies = movies[~movies['movie_id'].isin(no_posters)]  # 剔除无用电影"
   ]
  },
  {
   "cell_type": "code",
   "execution_count": 42,
   "metadata": {
    "scrolled": false
   },
   "outputs": [
    {
     "name": "stdout",
     "output_type": "stream",
     "text": [
      "[665 'Alien 3 (1992)' '01-Jan-1992' nan\n",
      " 'http://us.imdb.com/M/title-exact?Alien%203%20(1992)' 0 1 0 0 0 0 0 0 0 0\n",
      " 0 1 0 0 0 1 1 0 0]\n",
      "[334 'U Turn (1997)' '01-Jan-1997' nan\n",
      " 'http://us.imdb.com/Title?U+Turn+(1997)' 0 1 0 0 0 0 1 0 0 0 0 0 0 1 0 0\n",
      " 0 0 0]\n",
      "[1478 'Dead Presidents (1995)' '01-Jan-1995' nan\n",
      " 'http://us.imdb.com/M/title-exact?Dead%20Presidents%20(1995)' 0 1 0 0 0 0\n",
      " 1 0 1 0 0 0 0 0 0 0 0 0 0]\n",
      "[128 'Supercop (1992)' '26-Jul-1996' nan\n",
      " 'http://us.imdb.com/M/title-exact?Police%20Story%20III:%20Supercop%20(1992)'\n",
      " 0 1 0 0 0 0 0 0 0 0 0 0 0 0 0 0 1 0 0]\n",
      "[161 'Top Gun (1986)' '01-Jan-1986' nan\n",
      " 'http://us.imdb.com/M/title-exact?Top%20Gun%20(1986)' 0 1 0 0 0 0 0 0 0 0\n",
      " 0 0 0 0 1 0 0 0 0]\n",
      "[62 'Stargate (1994)' '01-Jan-1994' nan\n",
      " 'http://us.imdb.com/M/title-exact?Stargate%20(1994)' 0 1 1 0 0 0 0 0 0 0\n",
      " 0 0 0 0 0 1 0 0 0]\n",
      "[452 'Jaws 2 (1978)' '01-Jan-1978' nan\n",
      " 'http://us.imdb.com/M/title-exact?Jaws%202%20(1978)' 0 1 0 0 0 0 0 0 0 0\n",
      " 0 1 0 0 0 0 0 0 0]\n"
     ]
    },
    {
     "data": {
      "text/plain": [
       "[{'poster': '/static/posters/665.png', 'title': 'Alien 3 '},\n",
       " {'poster': '/static/posters/334.png', 'title': 'U Turn '},\n",
       " {'poster': '/static/posters/1478.png', 'title': 'Dead Presidents '},\n",
       " {'poster': '/static/posters/128.png', 'title': 'Supercop '},\n",
       " {'poster': '/static/posters/161.png', 'title': 'Top Gun '},\n",
       " {'poster': '/static/posters/62.png', 'title': 'Stargate '},\n",
       " {'poster': '/static/posters/452.png', 'title': 'Jaws 2 '}]"
      ]
     },
     "execution_count": 42,
     "metadata": {},
     "output_type": "execute_result"
    }
   ],
   "source": [
    "rec = movies[movies['Action']==1]\n",
    "rec = rec.sample(n=7)\n",
    "r = []\n",
    "for item in rec.values:\n",
    "    print(item)\n",
    "    ri = {'poster': '/static/posters/'+str(item[0])+'.png', 'title': item[1][:-6]}\n",
    "    r.append(ri)\n",
    "r"
   ]
  }
 ],
 "metadata": {
  "kernelspec": {
   "display_name": "Python 3",
   "language": "python",
   "name": "python3"
  },
  "language_info": {
   "codemirror_mode": {
    "name": "ipython",
    "version": 3
   },
   "file_extension": ".py",
   "mimetype": "text/x-python",
   "name": "python",
   "nbconvert_exporter": "python",
   "pygments_lexer": "ipython3",
   "version": "3.6.2"
  }
 },
 "nbformat": 4,
 "nbformat_minor": 2
}
