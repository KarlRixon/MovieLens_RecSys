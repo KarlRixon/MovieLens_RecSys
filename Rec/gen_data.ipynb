{
 "cells": [
  {
   "cell_type": "code",
   "execution_count": 4,
   "metadata": {},
   "outputs": [],
   "source": [
    "import torch\n",
    "from torch import nn, optim\n",
    "from torchvision import transforms, utils\n",
    "from torch.utils.data import DataLoader, random_split\n",
    "from dataset import PosterDataset, Resize, ToTensor\n",
    "import numpy as np"
   ]
  },
  {
   "cell_type": "markdown",
   "metadata": {},
   "source": [
    "### 提取待测试数据"
   ]
  },
  {
   "cell_type": "code",
   "execution_count": null,
   "metadata": {},
   "outputs": [],
   "source": []
  },
  {
   "cell_type": "code",
   "execution_count": null,
   "metadata": {},
   "outputs": [],
   "source": [
    "device = torch.device('cuda')\n",
    "model = torch.load('net.pkl').cuda()\n",
    "\n",
    "model.eval()\n",
    "with torch.no_grad():\n",
    "    # test\n",
    "    total_correct = 0\n",
    "    total_num = 0\n",
    "    for idx, item in enumerate(data_loader2):\n",
    "        x, labels = item['image'].to(device), item['labels']\n",
    "\n",
    "        # 改进\n",
    "        logits = model(x)\n",
    "        pred = props_to_onehot(logits.cpu().numpy()) # 输出转为onehot\n",
    "\n",
    "        for i in range(x.size(0)): # 不能设置为tbx因为最后一个batch可能会越界\n",
    "            a = torch.IntTensor(pred[i]).to(device)\n",
    "            b = torch.IntTensor(list(map(int, labels[i]))).to(device)\n",
    "            total_correct += (a*b).sum().item() # 向量点乘，若模型预测结果在电影类型中则点乘为1，即预测正确\n",
    "\n",
    "        total_num += x.size(0)\n",
    "\n",
    "    acc = total_correct / total_num\n",
    "    train_acc.append(acc)\n",
    "    print('acc: ', acc)"
   ]
  },
  {
   "cell_type": "code",
   "execution_count": null,
   "metadata": {},
   "outputs": [],
   "source": []
  },
  {
   "cell_type": "code",
   "execution_count": null,
   "metadata": {},
   "outputs": [],
   "source": []
  }
 ],
 "metadata": {
  "kernelspec": {
   "display_name": "Python 3",
   "language": "python",
   "name": "python3"
  },
  "language_info": {
   "codemirror_mode": {
    "name": "ipython",
    "version": 3
   },
   "file_extension": ".py",
   "mimetype": "text/x-python",
   "name": "python",
   "nbconvert_exporter": "python",
   "pygments_lexer": "ipython3",
   "version": "3.6.2"
  }
 },
 "nbformat": 4,
 "nbformat_minor": 2
}
